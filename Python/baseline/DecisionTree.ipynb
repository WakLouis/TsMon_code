{
 "cells": [
  {
   "cell_type": "code",
   "id": "initial_id",
   "metadata": {
    "collapsed": true,
    "ExecuteTime": {
     "end_time": "2025-09-07T08:05:54.399467Z",
     "start_time": "2025-09-07T08:05:52.544790Z"
    }
   },
   "source": [
    "# 读入数据集\n",
    "DATA = './web_trace.csv'\n",
    "\n",
    "'''\n",
    "Raw packets\n",
    "'''\n",
    "packets = []\n",
    "with open(DATA, 'r') as f:\n",
    "    for line in f:\n",
    "        key, p_bits, global_time, label = line.strip().split(',')\n",
    "        key = int(key)\n",
    "        global_time = int(global_time)\n",
    "        label = int(label)\n",
    "        p_bits = int(p_bits)\n",
    "        packets.append((key, p_bits, global_time, label))"
   ],
   "outputs": [],
   "execution_count": 2
  },
  {
   "metadata": {
    "ExecuteTime": {
     "end_time": "2025-09-07T08:06:05.049178Z",
     "start_time": "2025-09-07T08:05:56.933382Z"
    }
   },
   "cell_type": "code",
   "source": [
    "# 分为不同滑动窗口\n",
    "features = [] # 总和, 均值, 最大值, 方差\n",
    "windowLabel = [] # 标签\n",
    "for i in range(0, len(packets)):\n",
    "    _sqsum = 0\n",
    "    _sum = 0\n",
    "    flag = 0\n",
    "    _max = 0\n",
    "    for p in range(i, i+8):\n",
    "        if p >= len(packets) : break\n",
    "        key, p_bits, global_time, label = packets[p]\n",
    "        if label == 1: flag = 1\n",
    "        _sum += p_bits\n",
    "        _max = max(_max, p_bits)\n",
    "        _sqsum += p_bits ** 2\n",
    "\n",
    "    windowLabel.append(flag)\n",
    "    _mean = _sum >> 3\n",
    "    _sqsum = _sqsum >> 3\n",
    "    _var =  _sqsum - _mean ** 2\n",
    "    features.append([_sum, _mean, _max, _var])\n",
    "\n"
   ],
   "id": "398b1359e723c49a",
   "outputs": [],
   "execution_count": 3
  },
  {
   "metadata": {
    "ExecuteTime": {
     "end_time": "2025-09-07T08:06:09.058306Z",
     "start_time": "2025-09-07T08:06:07.125529Z"
    }
   },
   "cell_type": "code",
   "source": [
    "from sklearn.tree import DecisionTreeClassifier\n",
    "from sklearn.model_selection import train_test_split\n",
    "from sklearn.metrics import classification_report, accuracy_score\n",
    "import numpy as np\n",
    "\n",
    "# 将其转为 NumPy 数组（便于训练）\n",
    "X = np.array(features)\n",
    "y = np.array(windowLabel)\n",
    "\n",
    "# 划分训练集和测试集（例如 80% 训练，20% 测试）\n",
    "X_train, X_test, y_train, y_test = train_test_split(X, y, test_size=0.3, random_state=42)\n",
    "\n",
    "# 创建决策树分类器（可指定 criterion 为 \"gini\" 或 \"entropy\"）\n",
    "clf = DecisionTreeClassifier(criterion='gini', max_depth=3, random_state=42)\n",
    "\n",
    "# 拟合训练数据\n",
    "clf.fit(X_train, y_train)\n",
    "\n",
    "# 在测试集上预测\n",
    "y_pred = clf.predict(X_test)\n",
    "\n",
    "# 输出评估结果\n",
    "print(\"准确率: {:.2f}%\".format(accuracy_score(y_test, y_pred) * 100))\n",
    "print(\"\\n分类报告:\")\n",
    "print(classification_report(y_test, y_pred))\n"
   ],
   "id": "9564203842c88fa8",
   "outputs": [
    {
     "name": "stdout",
     "output_type": "stream",
     "text": [
      "准确率: 99.89%\n",
      "\n",
      "分类报告:\n",
      "              precision    recall  f1-score   support\n",
      "\n",
      "           0       1.00      1.00      1.00    529921\n",
      "           1       1.00      0.96      0.98     15228\n",
      "\n",
      "    accuracy                           1.00    545149\n",
      "   macro avg       1.00      0.98      0.99    545149\n",
      "weighted avg       1.00      1.00      1.00    545149\n",
      "\n"
     ]
    }
   ],
   "execution_count": 4
  },
  {
   "metadata": {
    "ExecuteTime": {
     "end_time": "2025-09-07T08:06:16.232697Z",
     "start_time": "2025-09-07T08:06:16.228580Z"
    }
   },
   "cell_type": "code",
   "source": [
    "from sklearn.tree import export_text\n",
    "print(export_text(clf, feature_names=[\"sum\", \"mean\", \"max\", \"var\"]))"
   ],
   "id": "5c2bf1ec29719ea6",
   "outputs": [
    {
     "name": "stdout",
     "output_type": "stream",
     "text": [
      "|--- sum <= 8950.00\n",
      "|   |--- sum <= 8550.00\n",
      "|   |   |--- mean <= 956.00\n",
      "|   |   |   |--- class: 0\n",
      "|   |   |--- mean >  956.00\n",
      "|   |   |   |--- class: 0\n",
      "|   |--- sum >  8550.00\n",
      "|   |   |--- var <= 254540.50\n",
      "|   |   |   |--- class: 1\n",
      "|   |   |--- var >  254540.50\n",
      "|   |   |   |--- class: 0\n",
      "|--- sum >  8950.00\n",
      "|   |--- var <= 148978.00\n",
      "|   |   |--- var <= 89943.50\n",
      "|   |   |   |--- class: 1\n",
      "|   |   |--- var >  89943.50\n",
      "|   |   |   |--- class: 1\n",
      "|   |--- var >  148978.00\n",
      "|   |   |--- mean <= 1156.00\n",
      "|   |   |   |--- class: 1\n",
      "|   |   |--- mean >  1156.00\n",
      "|   |   |   |--- class: 0\n",
      "\n"
     ]
    }
   ],
   "execution_count": 5
  }
 ],
 "metadata": {
  "kernelspec": {
   "display_name": "Python 3",
   "language": "python",
   "name": "python3"
  },
  "language_info": {
   "codemirror_mode": {
    "name": "ipython",
    "version": 2
   },
   "file_extension": ".py",
   "mimetype": "text/x-python",
   "name": "python",
   "nbconvert_exporter": "python",
   "pygments_lexer": "ipython2",
   "version": "2.7.6"
  }
 },
 "nbformat": 4,
 "nbformat_minor": 5
}
