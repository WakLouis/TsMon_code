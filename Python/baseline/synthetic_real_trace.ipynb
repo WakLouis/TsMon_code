{
 "cells": [
  {
   "metadata": {
    "ExecuteTime": {
     "end_time": "2025-07-26T17:10:34.951177Z",
     "start_time": "2025-07-26T17:10:21.987576Z"
    }
   },
   "cell_type": "code",
   "source": [
    "import csv\n",
    "import random\n",
    "import numpy as np\n",
    "\n",
    "def generate_trace(mode=\"Web\", filename=\"unknown-trace.csv\"):\n",
    "    # === 基本参数 ===\n",
    "    DURATION_US = 10_000_000  # 总时长10秒（μs）\n",
    "    LINK_CAPACITY_BPS = 100e9  # 100 Gbps\n",
    "    SAMPLING_INTERVAL = 25     # 25μs采样\n",
    "    NUM_KEYS = 1000\n",
    "    ZIPF_SKEW = 1.2\n",
    "    MTU = 1500\n",
    "\n",
    "    # === 模式参数设置 ===\n",
    "    if mode == \"Web\":\n",
    "        BURST_INTERVAL_US = 10_000     # 每10ms一次突发\n",
    "        BURST_DURATION_US = 50         # 突发持续50μs\n",
    "        BURST_RATE = 60e9              # Burst期间：60Gbps\n",
    "        NORMAL_RATE = 10e9             # 平时10Gbps\n",
    "        burst_psize_dist = lambda: random.choices([1500, 1200, 800], weights=[0.6, 0.3, 0.1])[0]\n",
    "        normal_psize_dist = lambda: random.choices([1500, 600, 200], weights=[0.2, 0.3, 0.5])[0]\n",
    "    elif mode == \"Cache\":\n",
    "        BURST_INTERVAL_US = 50_000     # 每50ms一次突发\n",
    "        BURST_DURATION_US = 200        # 持续200μs\n",
    "        BURST_RATE = 80e9              # Burst期间：80Gbps\n",
    "        NORMAL_RATE = 20e9             # 平时20Gbps\n",
    "        burst_psize_dist = lambda: random.choices([1500, 1000, 800], weights=[0.4, 0.4, 0.2])[0]\n",
    "        normal_psize_dist = lambda: random.choices([1500, 800, 500], weights=[0.2, 0.4, 0.4])[0]\n",
    "    else:\n",
    "        raise ValueError(\"Unsupported mode: choose 'Web' or 'Cache'.\")\n",
    "\n",
    "    # 计算每周期总流量\n",
    "    BURST_BYTES = int(BURST_RATE * BURST_DURATION_US * 1e-6 / 8)\n",
    "    NORMAL_BYTES = int(NORMAL_RATE * SAMPLING_INTERVAL * 1e-6 / 8)\n",
    "\n",
    "    # Zipf 分布流 ID\n",
    "    flow_keys = np.random.zipf(ZIPF_SKEW, size=DURATION_US // 5)\n",
    "    flow_keys = [k % NUM_KEYS for k in flow_keys]\n",
    "\n",
    "    # 构造突发区间\n",
    "    burst_ranges = []\n",
    "    t = 0\n",
    "    while t < DURATION_US:\n",
    "        burst_ranges.append((t, t + BURST_DURATION_US))\n",
    "        t += BURST_INTERVAL_US\n",
    "\n",
    "    # 生成数据包\n",
    "    packets = []\n",
    "    cur_time = 0\n",
    "    print(f\"[{mode}] 开始生成数据包...\")\n",
    "    while cur_time < DURATION_US:\n",
    "        in_burst = any(start <= cur_time < end for (start, end) in burst_ranges)\n",
    "        if in_burst:\n",
    "            total_bytes = BURST_BYTES\n",
    "            label = 1\n",
    "            psize_dist = burst_psize_dist\n",
    "        else:\n",
    "            total_bytes = NORMAL_BYTES\n",
    "            label = 0\n",
    "            psize_dist = normal_psize_dist\n",
    "\n",
    "        sent_bytes = 0\n",
    "        while sent_bytes < total_bytes and cur_time < DURATION_US:\n",
    "            pkt_size = psize_dist()\n",
    "            key = random.choice(flow_keys)\n",
    "            packets.append([key, pkt_size, cur_time*1000, label])\n",
    "            sent_bytes += pkt_size\n",
    "            cur_time += random.randint(1, 10)  # 模拟包间隔（μs）\n",
    "\n",
    "    print(f\"[{mode}] 生成完毕，共 {len(packets)} 条记录\")\n",
    "\n",
    "    # 输出 CSV\n",
    "    with open(filename, \"w\", newline=\"\") as csvfile:\n",
    "        writer = csv.writer(csvfile)\n",
    "        # writer.writerow([\"key\", \"packetSize\", \"timestamp\", \"label\"])\n",
    "        writer.writerows(packets)\n",
    "\n",
    "    print(f\"[{mode}] 已保存为 {filename}\")\n",
    "\n",
    "\n",
    "# 运行示例：\n",
    "generate_trace(mode=\"Web\", filename=\"web_trace.csv\")\n",
    "generate_trace(mode=\"Cache\", filename=\"cache_trace.csv\")\n"
   ],
   "id": "ea909348e6b1e4de",
   "outputs": [
    {
     "name": "stdout",
     "output_type": "stream",
     "text": [
      "[Web] 开始生成数据包...\n",
      "[Web] 生成完毕，共 1817163 条记录\n",
      "[Web] 已保存为 web_trace.csv\n",
      "[Cache] 开始生成数据包...\n",
      "[Cache] 生成完毕，共 1817938 条记录\n",
      "[Cache] 已保存为 cache_trace.csv\n"
     ]
    }
   ],
   "execution_count": 2
  }
 ],
 "metadata": {
  "kernelspec": {
   "display_name": "Python 3",
   "language": "python",
   "name": "python3"
  },
  "language_info": {
   "codemirror_mode": {
    "name": "ipython",
    "version": 2
   },
   "file_extension": ".py",
   "mimetype": "text/x-python",
   "name": "python",
   "nbconvert_exporter": "python",
   "pygments_lexer": "ipython2",
   "version": "2.7.6"
  }
 },
 "nbformat": 4,
 "nbformat_minor": 5
}
