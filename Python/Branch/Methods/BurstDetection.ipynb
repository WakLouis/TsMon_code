{
 "cells": [
  {
   "cell_type": "code",
   "id": "initial_id",
   "metadata": {
    "collapsed": true,
    "ExecuteTime": {
     "end_time": "2025-09-13T11:56:52.818125Z",
     "start_time": "2025-09-13T11:56:52.808275Z"
    }
   },
   "source": [
    "'''\n",
    "读入HUAWEI_1数据集专用\n",
    "'''\n",
    "DATA = '../Datasets/HUAWEI_1GE_input.csv'\n",
    "packets = []\n",
    "with open(DATA, 'r') as f:\n",
    "    next(f)\n",
    "    for line in f:\n",
    "        key, global_time, p_bits, label = line.strip().split(',')\n",
    "        key = int(key)\n",
    "        global_time = int(global_time)\n",
    "        label = int(label)\n",
    "        p_bits = int(p_bits)\n",
    "        packets.append((key, p_bits, global_time, label))"
   ],
   "outputs": [],
   "execution_count": 1
  },
  {
   "metadata": {
    "ExecuteTime": {
     "end_time": "2025-09-16T14:44:57.373334Z",
     "start_time": "2025-09-16T14:44:57.355333Z"
    }
   },
   "cell_type": "code",
   "source": [
    "'''\n",
    "读入HUAWEI_1数据集专用\n",
    "'''\n",
    "DATA = '../Datasets/HUAWEI_2GE.csv'\n",
    "packets = []\n",
    "with open(DATA, 'r') as f:\n",
    "    next(f)\n",
    "    for line in f:\n",
    "        key, global_time, p_bits, label = line.strip().split(',')\n",
    "        key = int(key)\n",
    "        global_time = int(global_time)\n",
    "        label = int(label)\n",
    "        p_bits = int(p_bits)\n",
    "        packets.append((key, p_bits, global_time, label))"
   ],
   "id": "f97828c296c27d49",
   "outputs": [],
   "execution_count": 1
  },
  {
   "metadata": {
    "ExecuteTime": {
     "end_time": "2025-09-16T14:45:18.250034Z",
     "start_time": "2025-09-16T14:45:18.240811Z"
    }
   },
   "cell_type": "code",
   "source": [
    "# 逐包检测\n",
    "features = []  # 总和, 均值, 最大值, 方差\n",
    "windowLabel = []  # 标签\n",
    "_count = 0\n",
    "for i in range(0, len(packets)):\n",
    "    key, p_bits, global_time, label = packets[i]\n",
    "    # if label == 0 and key % 100 != 0:\n",
    "    #     continue\n",
    "\n",
    "    if label == 0:\n",
    "        windowLabel.append(0)\n",
    "        features.append([p_bits])\n",
    "    else:\n",
    "        _count += 1\n",
    "        windowLabel.append(label)\n",
    "        features.append([p_bits])\n",
    "\n",
    "print(_count)"
   ],
   "id": "97e32ff4f3afc92e",
   "outputs": [
    {
     "name": "stdout",
     "output_type": "stream",
     "text": [
      "5901\n"
     ]
    }
   ],
   "execution_count": 2
  },
  {
   "metadata": {
    "ExecuteTime": {
     "end_time": "2025-09-16T14:45:23.206142Z",
     "start_time": "2025-09-16T14:45:20.541667Z"
    }
   },
   "cell_type": "code",
   "source": [
    "# 决策树\n",
    "from sklearn.tree import DecisionTreeClassifier\n",
    "from sklearn.model_selection import train_test_split\n",
    "from sklearn.metrics import classification_report, accuracy_score\n",
    "import numpy as np\n",
    "\n",
    "X = np.array(features)\n",
    "y = np.array(windowLabel)\n",
    "\n",
    "# 划分训练集和测试集（例如 80% 训练，20% 测试）\n",
    "X_train, X_test, y_train, y_test = train_test_split(X, y, test_size=0.5, random_state=54009)\n",
    "\n",
    "# 创建决策树分类器（可指定 criterion 为 \"gini\" 或 \"entropy\"）\n",
    "clf = DecisionTreeClassifier(criterion='gini', max_depth=None, random_state=54009)\n",
    "\n",
    "# 拟合训练数据\n",
    "clf.fit(X_train, y_train)\n",
    "\n",
    "# 在测试集上预测\n",
    "y_pred = clf.predict(X_test)\n",
    "\n",
    "\n",
    "# 输出评估结果\n",
    "print(\"\\n分类报告:\")\n",
    "print(classification_report(y_test, y_pred))\n"
   ],
   "id": "edd40f2df2b1b38b",
   "outputs": [
    {
     "name": "stdout",
     "output_type": "stream",
     "text": [
      "\n",
      "分类报告:\n",
      "              precision    recall  f1-score   support\n",
      "\n",
      "           0       0.60      1.00      0.75      4378\n",
      "           1       0.00      0.00      0.00      2951\n",
      "\n",
      "    accuracy                           0.60      7329\n",
      "   macro avg       0.30      0.50      0.37      7329\n",
      "weighted avg       0.36      0.60      0.45      7329\n",
      "\n"
     ]
    },
    {
     "name": "stderr",
     "output_type": "stream",
     "text": [
      "D:\\Anaconda\\Lib\\site-packages\\sklearn\\metrics\\_classification.py:1531: UndefinedMetricWarning: Precision is ill-defined and being set to 0.0 in labels with no predicted samples. Use `zero_division` parameter to control this behavior.\n",
      "  _warn_prf(average, modifier, f\"{metric.capitalize()} is\", len(result))\n",
      "D:\\Anaconda\\Lib\\site-packages\\sklearn\\metrics\\_classification.py:1531: UndefinedMetricWarning: Precision is ill-defined and being set to 0.0 in labels with no predicted samples. Use `zero_division` parameter to control this behavior.\n",
      "  _warn_prf(average, modifier, f\"{metric.capitalize()} is\", len(result))\n",
      "D:\\Anaconda\\Lib\\site-packages\\sklearn\\metrics\\_classification.py:1531: UndefinedMetricWarning: Precision is ill-defined and being set to 0.0 in labels with no predicted samples. Use `zero_division` parameter to control this behavior.\n",
      "  _warn_prf(average, modifier, f\"{metric.capitalize()} is\", len(result))\n"
     ]
    }
   ],
   "execution_count": 3
  },
  {
   "metadata": {
    "ExecuteTime": {
     "end_time": "2025-09-16T14:46:50.136772Z",
     "start_time": "2025-09-16T14:46:49.872357Z"
    }
   },
   "cell_type": "code",
   "source": [
    "# 随机森林\n",
    "from sklearn.ensemble import RandomForestClassifier\n",
    "from sklearn.model_selection import train_test_split\n",
    "from sklearn.metrics import classification_report, accuracy_score\n",
    "import numpy as np\n",
    "\n",
    "X = np.array(features)\n",
    "y = np.array(windowLabel)\n",
    "\n",
    "\n",
    "# 划分训练集和测试集（例如 80% 训练，20% 测试）\n",
    "X_train, X_test, y_train, y_test = train_test_split(\n",
    "    X, y, test_size=0.5, random_state=54009\n",
    ")\n",
    "\n",
    "# 创建随机森林分类器\n",
    "# n_estimators 是树的数量，可以调大，比如 100 或 200\n",
    "clf = RandomForestClassifier(\n",
    "    n_estimators=100,\n",
    "    criterion='gini',\n",
    "    max_depth=None,\n",
    "    random_state=54009,\n",
    "    n_jobs=-1   # 用所有CPU核心加速\n",
    ")\n",
    "\n",
    "# 拟合训练数据\n",
    "clf.fit(X_train, y_train)\n",
    "\n",
    "# 在测试集上预测\n",
    "y_pred = clf.predict(X_test)\n",
    "\n",
    "# 输出评估结果\n",
    "print(\"准确率: {:.2f}%\".format(accuracy_score(y_test, y_pred) * 100))\n",
    "print(\"\\n分类报告:\")\n",
    "print(classification_report(y_test, y_pred))\n"
   ],
   "id": "57da1ce9011a717c",
   "outputs": [
    {
     "name": "stdout",
     "output_type": "stream",
     "text": [
      "准确率: 59.74%\n",
      "\n",
      "分类报告:\n",
      "              precision    recall  f1-score   support\n",
      "\n",
      "           0       0.60      1.00      0.75      4378\n",
      "           1       0.00      0.00      0.00      2951\n",
      "\n",
      "    accuracy                           0.60      7329\n",
      "   macro avg       0.30      0.50      0.37      7329\n",
      "weighted avg       0.36      0.60      0.45      7329\n",
      "\n"
     ]
    },
    {
     "name": "stderr",
     "output_type": "stream",
     "text": [
      "D:\\Anaconda\\Lib\\site-packages\\sklearn\\metrics\\_classification.py:1531: UndefinedMetricWarning: Precision is ill-defined and being set to 0.0 in labels with no predicted samples. Use `zero_division` parameter to control this behavior.\n",
      "  _warn_prf(average, modifier, f\"{metric.capitalize()} is\", len(result))\n",
      "D:\\Anaconda\\Lib\\site-packages\\sklearn\\metrics\\_classification.py:1531: UndefinedMetricWarning: Precision is ill-defined and being set to 0.0 in labels with no predicted samples. Use `zero_division` parameter to control this behavior.\n",
      "  _warn_prf(average, modifier, f\"{metric.capitalize()} is\", len(result))\n",
      "D:\\Anaconda\\Lib\\site-packages\\sklearn\\metrics\\_classification.py:1531: UndefinedMetricWarning: Precision is ill-defined and being set to 0.0 in labels with no predicted samples. Use `zero_division` parameter to control this behavior.\n",
      "  _warn_prf(average, modifier, f\"{metric.capitalize()} is\", len(result))\n"
     ]
    }
   ],
   "execution_count": 4
  },
  {
   "metadata": {
    "ExecuteTime": {
     "end_time": "2025-09-16T14:47:07.502194Z",
     "start_time": "2025-09-16T14:47:07.484195Z"
    }
   },
   "cell_type": "code",
   "source": [
    "from sklearn.naive_bayes import GaussianNB\n",
    "from sklearn.model_selection import train_test_split\n",
    "from sklearn.metrics import classification_report, accuracy_score\n",
    "import numpy as np\n",
    "# 朴素贝叶斯\n",
    "X = np.array(features)\n",
    "y = np.array(windowLabel)\n",
    "\n",
    "# 划分训练集和测试集（例如 50% 测试）\n",
    "X_train, X_test, y_train, y_test = train_test_split(\n",
    "    X, y, test_size=0.5, random_state=54009\n",
    ")\n",
    "\n",
    "# 创建朴素贝叶斯分类器\n",
    "clf = GaussianNB()\n",
    "\n",
    "# 拟合训练数据\n",
    "clf.fit(X_train, y_train)\n",
    "\n",
    "# 在测试集上预测\n",
    "y_pred = clf.predict(X_test)\n",
    "\n",
    "# 输出评估结果\n",
    "print(\"准确率: {:.2f}%\".format(accuracy_score(y_test, y_pred) * 100))\n",
    "print(\"\\n分类报告:\")\n",
    "print(classification_report(y_test, y_pred))\n"
   ],
   "id": "1ec6bf373e889b0a",
   "outputs": [
    {
     "name": "stdout",
     "output_type": "stream",
     "text": [
      "准确率: 40.26%\n",
      "\n",
      "分类报告:\n",
      "              precision    recall  f1-score   support\n",
      "\n",
      "           0       0.00      0.00      0.00      4378\n",
      "           1       0.40      1.00      0.57      2951\n",
      "\n",
      "    accuracy                           0.40      7329\n",
      "   macro avg       0.20      0.50      0.29      7329\n",
      "weighted avg       0.16      0.40      0.23      7329\n",
      "\n"
     ]
    },
    {
     "name": "stderr",
     "output_type": "stream",
     "text": [
      "D:\\Anaconda\\Lib\\site-packages\\sklearn\\metrics\\_classification.py:1531: UndefinedMetricWarning: Precision is ill-defined and being set to 0.0 in labels with no predicted samples. Use `zero_division` parameter to control this behavior.\n",
      "  _warn_prf(average, modifier, f\"{metric.capitalize()} is\", len(result))\n",
      "D:\\Anaconda\\Lib\\site-packages\\sklearn\\metrics\\_classification.py:1531: UndefinedMetricWarning: Precision is ill-defined and being set to 0.0 in labels with no predicted samples. Use `zero_division` parameter to control this behavior.\n",
      "  _warn_prf(average, modifier, f\"{metric.capitalize()} is\", len(result))\n",
      "D:\\Anaconda\\Lib\\site-packages\\sklearn\\metrics\\_classification.py:1531: UndefinedMetricWarning: Precision is ill-defined and being set to 0.0 in labels with no predicted samples. Use `zero_division` parameter to control this behavior.\n",
      "  _warn_prf(average, modifier, f\"{metric.capitalize()} is\", len(result))\n"
     ]
    }
   ],
   "execution_count": 5
  },
  {
   "metadata": {
    "ExecuteTime": {
     "end_time": "2025-09-16T14:47:24.462081Z",
     "start_time": "2025-09-16T14:47:24.419460Z"
    }
   },
   "cell_type": "code",
   "source": [
    "from collections import defaultdict\n",
    "import numpy as np\n",
    "\n",
    "# 参数\n",
    "time_window = 10   # 每个窗口的时间长度\n",
    "num_windows = 8     # 累积多少个窗口后计算一次统计特征\n",
    "\n",
    "# 输出\n",
    "features = []\n",
    "windowLabel = []\n",
    "\n",
    "# 按流存储数据\n",
    "flow_dict = defaultdict(list)\n",
    "\n",
    "# 按流 -> 窗口存储包\n",
    "window_data = defaultdict(lambda: defaultdict(list))\n",
    "\n",
    "for pkt in packets:\n",
    "    key, p_bits, global_time, label = pkt\n",
    "\n",
    "    # 将包放到该流的列表中\n",
    "    flow_dict[key].append((p_bits, global_time, label))\n",
    "\n",
    "    # 计算窗口 ID（整除即可）\n",
    "    win_id = global_time // time_window\n",
    "    window_data[key][win_id].append((p_bits, label))\n",
    "\n",
    "    # 如果该流的窗口数达到 num_windows，则计算一次统计特征\n",
    "    if len(window_data[key]) >= num_windows:\n",
    "        # 取最近的 num_windows 个窗口\n",
    "        sorted_windows = sorted(window_data[key].keys())[-num_windows:]\n",
    "\n",
    "        # 聚合数据\n",
    "        all_bits = []\n",
    "        all_labels = []\n",
    "        for wid in sorted_windows:\n",
    "            pkts = window_data[key][wid]\n",
    "            for p_bits, lbl in pkts:\n",
    "                all_bits.append(p_bits)\n",
    "                all_labels.append(lbl)\n",
    "\n",
    "        if len(all_bits) > 0:\n",
    "            arr = np.array(all_bits)\n",
    "\n",
    "            _sum = arr.sum()\n",
    "            _mean = arr.mean()\n",
    "            _min = arr.min()\n",
    "            _max = arr.max()\n",
    "            _var = arr.var()\n",
    "            _count = len(arr)\n",
    "            _delta = _max - _min\n",
    "\n",
    "            # 标签策略：如果窗口里有非0标签，就取那个，否则 0\n",
    "            flag = max(all_labels) if any(all_labels) else 0\n",
    "\n",
    "            f_all = [_sum, _mean, _min, _max, _var, _count, _delta]\n",
    "\n",
    "            features.append(f_all)\n",
    "            windowLabel.append(flag)\n",
    "\n",
    "        # 清空已经用过的窗口，避免重复统计\n",
    "        for wid in sorted_windows:\n",
    "            del window_data[key][wid]\n"
   ],
   "id": "371008282997be4b",
   "outputs": [],
   "execution_count": 6
  },
  {
   "metadata": {
    "ExecuteTime": {
     "end_time": "2025-09-16T14:47:25.832149Z",
     "start_time": "2025-09-16T14:47:25.822663Z"
    }
   },
   "cell_type": "code",
   "source": [
    "# 决策树\n",
    "from sklearn.tree import DecisionTreeClassifier\n",
    "from sklearn.model_selection import train_test_split\n",
    "from sklearn.metrics import classification_report, accuracy_score\n",
    "import numpy as np\n",
    "\n",
    "X = np.array(features)\n",
    "y = np.array(windowLabel)\n",
    "\n",
    "# 划分训练集和测试集（例如 80% 训练，20% 测试）\n",
    "X_train, X_test, y_train, y_test = train_test_split(X, y, test_size=0.5, random_state=54009)\n",
    "\n",
    "# 创建决策树分类器（可指定 criterion 为 \"gini\" 或 \"entropy\"）\n",
    "clf = DecisionTreeClassifier(criterion='gini', max_depth=None, random_state=54009)\n",
    "\n",
    "# 拟合训练数据\n",
    "clf.fit(X_train, y_train)\n",
    "\n",
    "# 在测试集上预测\n",
    "y_pred = clf.predict(X_test)\n",
    "\n",
    "\n",
    "# 输出评估结果\n",
    "print(\"\\n分类报告:\")\n",
    "print(classification_report(y_test, y_pred))\n"
   ],
   "id": "7bcd7df898201830",
   "outputs": [
    {
     "name": "stdout",
     "output_type": "stream",
     "text": [
      "\n",
      "分类报告:\n",
      "              precision    recall  f1-score   support\n",
      "\n",
      "           0       0.90      0.91      0.91        70\n",
      "           1       0.79      0.77      0.78        30\n",
      "\n",
      "    accuracy                           0.87       100\n",
      "   macro avg       0.85      0.84      0.84       100\n",
      "weighted avg       0.87      0.87      0.87       100\n",
      "\n"
     ]
    }
   ],
   "execution_count": 7
  },
  {
   "metadata": {
    "ExecuteTime": {
     "end_time": "2025-09-16T14:48:10.295023Z",
     "start_time": "2025-09-16T14:48:10.196474Z"
    }
   },
   "cell_type": "code",
   "source": [
    "# 随机森林\n",
    "from sklearn.ensemble import RandomForestClassifier\n",
    "from sklearn.model_selection import train_test_split\n",
    "from sklearn.metrics import classification_report, accuracy_score\n",
    "import numpy as np\n",
    "\n",
    "X = np.array(features)\n",
    "y = np.array(windowLabel)\n",
    "\n",
    "\n",
    "# 划分训练集和测试集（例如 80% 训练，20% 测试）\n",
    "X_train, X_test, y_train, y_test = train_test_split(\n",
    "    X, y, test_size=0.5, random_state=54009\n",
    ")\n",
    "\n",
    "# 创建随机森林分类器\n",
    "# n_estimators 是树的数量，可以调大，比如 100 或 200\n",
    "clf = RandomForestClassifier(\n",
    "    n_estimators=100,\n",
    "    criterion='gini',\n",
    "    max_depth=None,\n",
    "    random_state=54009,\n",
    "    n_jobs=-1   # 用所有CPU核心加速\n",
    ")\n",
    "\n",
    "# 拟合训练数据\n",
    "clf.fit(X_train, y_train)\n",
    "\n",
    "# 在测试集上预测\n",
    "y_pred = clf.predict(X_test)\n",
    "\n",
    "# 输出评估结果\n",
    "print(\"准确率: {:.2f}%\".format(accuracy_score(y_test, y_pred) * 100))\n",
    "print(\"\\n分类报告:\")\n",
    "print(classification_report(y_test, y_pred))\n"
   ],
   "id": "b39af0452a9f80ab",
   "outputs": [
    {
     "name": "stdout",
     "output_type": "stream",
     "text": [
      "准确率: 85.00%\n",
      "\n",
      "分类报告:\n",
      "              precision    recall  f1-score   support\n",
      "\n",
      "           0       0.94      0.84      0.89        70\n",
      "           1       0.70      0.87      0.78        30\n",
      "\n",
      "    accuracy                           0.85       100\n",
      "   macro avg       0.82      0.85      0.83       100\n",
      "weighted avg       0.87      0.85      0.85       100\n",
      "\n"
     ]
    }
   ],
   "execution_count": 8
  },
  {
   "metadata": {
    "ExecuteTime": {
     "end_time": "2025-09-16T14:49:02.307149Z",
     "start_time": "2025-09-16T14:49:02.297888Z"
    }
   },
   "cell_type": "code",
   "source": [
    "from sklearn.naive_bayes import GaussianNB\n",
    "from sklearn.model_selection import train_test_split\n",
    "from sklearn.metrics import classification_report, accuracy_score\n",
    "import numpy as np\n",
    "\n",
    "X = np.array(features)\n",
    "y = np.array(windowLabel)\n",
    "\n",
    "# 划分训练集和测试集（例如 50% 测试）\n",
    "X_train, X_test, y_train, y_test = train_test_split(\n",
    "    X, y, test_size=0.5, random_state=54009\n",
    ")\n",
    "\n",
    "# 创建朴素贝叶斯分类器\n",
    "clf = GaussianNB()\n",
    "\n",
    "# 拟合训练数据\n",
    "clf.fit(X_train, y_train)\n",
    "\n",
    "# 在测试集上预测\n",
    "y_pred = clf.predict(X_test)\n",
    "\n",
    "# 输出评估结果\n",
    "print(\"准确率: {:.2f}%\".format(accuracy_score(y_test, y_pred) * 100))\n",
    "print(\"\\n分类报告:\")\n",
    "print(classification_report(y_test, y_pred))\n"
   ],
   "id": "ea1ad966dd3c7124",
   "outputs": [
    {
     "name": "stdout",
     "output_type": "stream",
     "text": [
      "准确率: 70.00%\n",
      "\n",
      "分类报告:\n",
      "              precision    recall  f1-score   support\n",
      "\n",
      "           0       0.70      1.00      0.82        70\n",
      "           1       0.00      0.00      0.00        30\n",
      "\n",
      "    accuracy                           0.70       100\n",
      "   macro avg       0.35      0.50      0.41       100\n",
      "weighted avg       0.49      0.70      0.58       100\n",
      "\n"
     ]
    },
    {
     "name": "stderr",
     "output_type": "stream",
     "text": [
      "D:\\Anaconda\\Lib\\site-packages\\sklearn\\metrics\\_classification.py:1531: UndefinedMetricWarning: Precision is ill-defined and being set to 0.0 in labels with no predicted samples. Use `zero_division` parameter to control this behavior.\n",
      "  _warn_prf(average, modifier, f\"{metric.capitalize()} is\", len(result))\n",
      "D:\\Anaconda\\Lib\\site-packages\\sklearn\\metrics\\_classification.py:1531: UndefinedMetricWarning: Precision is ill-defined and being set to 0.0 in labels with no predicted samples. Use `zero_division` parameter to control this behavior.\n",
      "  _warn_prf(average, modifier, f\"{metric.capitalize()} is\", len(result))\n",
      "D:\\Anaconda\\Lib\\site-packages\\sklearn\\metrics\\_classification.py:1531: UndefinedMetricWarning: Precision is ill-defined and being set to 0.0 in labels with no predicted samples. Use `zero_division` parameter to control this behavior.\n",
      "  _warn_prf(average, modifier, f\"{metric.capitalize()} is\", len(result))\n"
     ]
    }
   ],
   "execution_count": 10
  },
  {
   "metadata": {
    "ExecuteTime": {
     "end_time": "2025-09-12T14:45:43.411302Z",
     "start_time": "2025-09-12T14:45:43.407345Z"
    }
   },
   "cell_type": "code",
   "source": [
    "import pandas as pd\n",
    "\n",
    "features_list = [\"_sum\", \"_mean\", \"_min\", \"_max\", \"_var\", \"_count\", \"_delta\"]\n",
    "\n",
    "# 包级\n",
    "# features_list = [\"tcpflags\", \"ttl\", \"bit\"]\n",
    "importances = clf.feature_importances_\n",
    "feature_scores = pd.DataFrame({\n",
    "    'feature': features_list,\n",
    "    'score': importances\n",
    "})\n",
    "feature_scores = feature_scores.sort_values(by='score', ascending=False)\n",
    "print(feature_scores)"
   ],
   "id": "6111963d2d3450",
   "outputs": [
    {
     "name": "stdout",
     "output_type": "stream",
     "text": [
      "  feature  score\n",
      "5  _count      0\n",
      "0    _sum      0\n",
      "1   _mean      0\n",
      "2    _min      0\n",
      "3    _max      0\n",
      "4    _var      0\n",
      "6  _delta      0\n"
     ]
    }
   ],
   "execution_count": 66
  },
  {
   "metadata": {
    "ExecuteTime": {
     "end_time": "2025-09-12T14:45:45.097815Z",
     "start_time": "2025-09-12T14:45:45.094174Z"
    }
   },
   "cell_type": "code",
   "source": [
    "from sklearn.tree import export_text\n",
    "\n",
    "print(export_text(clf, feature_names=features_list))"
   ],
   "id": "d37234f5a7145ed9",
   "outputs": [
    {
     "name": "stdout",
     "output_type": "stream",
     "text": [
      "|--- _count <= 62.00\n",
      "|   |--- class: 0\n",
      "|--- _count >  62.00\n",
      "|   |--- _count <= 69.50\n",
      "|   |   |--- _sum <= 46575.00\n",
      "|   |   |   |--- class: 1\n",
      "|   |   |--- _sum >  46575.00\n",
      "|   |   |   |--- class: 0\n",
      "|   |--- _count >  69.50\n",
      "|   |   |--- class: 1\n",
      "\n"
     ]
    }
   ],
   "execution_count": 67
  }
 ],
 "metadata": {
  "kernelspec": {
   "display_name": "Python 3",
   "language": "python",
   "name": "python3"
  },
  "language_info": {
   "codemirror_mode": {
    "name": "ipython",
    "version": 2
   },
   "file_extension": ".py",
   "mimetype": "text/x-python",
   "name": "python",
   "nbconvert_exporter": "python",
   "pygments_lexer": "ipython2",
   "version": "2.7.6"
  }
 },
 "nbformat": 4,
 "nbformat_minor": 5
}
